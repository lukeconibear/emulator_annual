{
 "cells": [
  {
   "cell_type": "code",
   "execution_count": 1,
   "metadata": {},
   "outputs": [],
   "source": [
    "import xarray as xr"
   ]
  },
  {
   "cell_type": "code",
   "execution_count": 11,
   "metadata": {},
   "outputs": [],
   "source": [
    "sims = []\n",
    "for sim in range(6, 56):\n",
    "    sims.extend(['t' + str(sim)])"
   ]
  },
  {
   "cell_type": "code",
   "execution_count": null,
   "metadata": {},
   "outputs": [],
   "source": [
    "#outputs = ['PM2_5_DRY', 'o3', 'bc_2p5', 'oc_2p5', 'so4_2p5', 'oin_2p5', 'AOD550_sfc', 'bsoaX_2p5', 'nh4_2p5', 'no3_2p5', 'asoaX_2p5']\n",
    "outputs = ['o3']\n",
    "months = ['01', '02', '03', '04', '05', '06', '07', '08', '09', '10', '11', '12']\n",
    "\n",
    "for sim in sims:\n",
    "    path = f'/nfs/b0122/Users/earlacoa/paper_aia_china/{sim}'\n",
    "    for output in outputs:\n",
    "        monthly_files = []\n",
    "\n",
    "        for month in months:\n",
    "            monthly_files.append(xr.open_dataset(f'{path}/wrfout_d01_global_0.25deg_2015-{month}_{output}.nc'))\n",
    "\n",
    "        ds_annual = xr.concat(monthly_files, dim='time')\n",
    "        ds_annual.to_netcdf(f'{path}/wrfout_d01_global_0.25deg_2015-{months[0]}:{months[-1]}_{output}.nc')\n",
    "        \n",
    "        #ds_annual_mean = ds_annual.mean(dim='time')\n",
    "        #ds_annual_mean.to_netcdf(f'{path}/wrfout_d01_global_0.25deg_2015-annual-mean_{output}.nc')"
   ]
  },
  {
   "cell_type": "code",
   "execution_count": null,
   "metadata": {},
   "outputs": [],
   "source": [
    "# convert aerosol units\n",
    "aerosols = ['bc_2p5', 'oc_2p5', 'so4_2p5', 'oin_2p5', 'bsoaX_2p5', 'nh4_2p5', 'no3_2p5', 'asoaX_2p5']\n",
    "\n",
    "alt = xr.open_dataset(\n",
    "    '/nfs/b0122/Users/earlacoa/paper_aia_china/wrfout_d01_global_0.25deg_alt.nc'\n",
    ")['ALT'].isel(time=0)\n",
    "\n",
    "for sim in sims:\n",
    "    path = f'/nfs/b0122/Users/earlacoa/paper_aia_china/{sim}'\n",
    "    for aerosol in aerosols:\n",
    "        for time in ['annual-mean', '01']:\n",
    "            with xr.open_dataset(f'{path}/wrfout_d01_global_0.25deg_2015-{time}_{aerosol}.nc') as ds:\n",
    "                ds_units = ds / alt\n",
    "\n",
    "            ds_units.to_netcdf(f'{path}/wrfout_d01_global_0.25deg_2015-{time}_{aerosol}_ugm-3.nc')"
   ]
  },
  {
   "cell_type": "code",
   "execution_count": null,
   "metadata": {},
   "outputs": [],
   "source": []
  }
 ],
 "metadata": {
  "kernelspec": {
   "display_name": "python3",
   "language": "python",
   "name": "python3"
  },
  "language_info": {
   "codemirror_mode": {
    "name": "ipython",
    "version": 3
   },
   "file_extension": ".py",
   "mimetype": "text/x-python",
   "name": "python",
   "nbconvert_exporter": "python",
   "pygments_lexer": "ipython3",
   "version": "3.8.6"
  }
 },
 "nbformat": 4,
 "nbformat_minor": 4
}
