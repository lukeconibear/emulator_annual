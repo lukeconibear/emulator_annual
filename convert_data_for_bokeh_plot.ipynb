{
 "cells": [
  {
   "cell_type": "markdown",
   "id": "broadband-mouse",
   "metadata": {},
   "source": [
    "#### convert data for bokeh plot"
   ]
  },
  {
   "cell_type": "code",
   "execution_count": 1,
   "id": "private-spice",
   "metadata": {},
   "outputs": [],
   "source": [
    "import joblib\n",
    "import geopandas as gpd\n",
    "import pandas as pd\n",
    "import numpy as np"
   ]
  },
  {
   "cell_type": "code",
   "execution_count": 2,
   "id": "material-aerospace",
   "metadata": {},
   "outputs": [],
   "source": [
    "results_compare = joblib.load('/nfs/b0122/Users/earlacoa/paper_aia_china/emulator_annual/health_impact_assessments/results_compare_adjusted_scaled.joblib.compressed')"
   ]
  },
  {
   "cell_type": "code",
   "execution_count": 3,
   "id": "loved-reserve",
   "metadata": {},
   "outputs": [],
   "source": [
    "def geodataframe_to_columndatasource_df(\n",
    "    gdf, \n",
    "    polygon_name_column='NAME_1',\n",
    "    scenario_variable='RES1.0_IND1.0_TRA1.0_AGR1.0_ENE1.0'):\n",
    "    xs = []\n",
    "    ys = []\n",
    "    for obj in gdf.geometry.boundary:\n",
    "        if obj.type == 'LineString':\n",
    "            obj_x, obj_y = obj.xy\n",
    "            xs.append([[list(obj_x)]])\n",
    "            ys.append([[list(obj_y)]])\n",
    "        elif obj.type == 'MultiLineString':\n",
    "            obj_x = []\n",
    "            obj_y = []\n",
    "            for line in obj:\n",
    "                line_x, line_y = line.xy\n",
    "                obj_x.append([list(line_x)])\n",
    "                obj_y.append([list(line_y)])\n",
    "            xs.append(obj_x)\n",
    "            ys.append(obj_y)\n",
    "\n",
    "    locations = gdf[polygon_name_column].values\n",
    "    df = pd.DataFrame({\n",
    "        'location': locations,\n",
    "        'xs': xs, \n",
    "        'ys': ys, \n",
    "        'scenario_variable': gdf[scenario_variable]})\n",
    "    for col in [col for col in gdf.columns if 'RES' in col]:\n",
    "        df[col] = gdf[col]\n",
    "    return df"
   ]
  },
  {
   "cell_type": "code",
   "execution_count": null,
   "id": "driven-mumbai",
   "metadata": {},
   "outputs": [],
   "source": [
    "# source per outcome\n",
    "source_dfs = {}\n",
    "options = []\n",
    "\n",
    "sims = list(results_compare['China'][output][outcome][metric].keys())\n",
    "\n",
    "for outcome in ['exposure', 'mort', 'dalys_rate']:\n",
    "    for metric in ['mean', 'lower', 'upper']:\n",
    "        if outcome == 'exposure' and metric != 'mean':\n",
    "            continue\n",
    "        else:\n",
    "            for output in ['PM2_5_DRY', 'o3_6mDM8h']:\n",
    "                gdf = gpd.read_file('/nfs/a68/earlacoa/shapefiles/china/gadm36_CHN_1.shp')\n",
    "\n",
    "                for region in gdf.NAME_1.unique():\n",
    "                    for sim in sims:\n",
    "                        options.append(f'{sim}')\n",
    "                        result = results_compare[region][output][outcome][metric][sim]\n",
    "                        gdf.loc[gdf.NAME_1 == region, f'{sim}'] = result\n",
    "\n",
    "                source_df = geodataframe_to_columndatasource_df(\n",
    "                    gdf, \n",
    "                    polygon_name_column='NAME_1', \n",
    "                    scenario_variable='RES1.0_IND1.0_TRA1.0_AGR1.0_ENE1.0')\n",
    "                source_dfs.update({f'{output}_{outcome}_{metric}': source_df})\n",
    "    \n",
    "options = sorted(list(set(options)))"
   ]
  },
  {
   "cell_type": "code",
   "execution_count": null,
   "id": "falling-audit",
   "metadata": {},
   "outputs": [],
   "source": [
    "joblib.dump(source_dfs, '/nfs/b0122/Users/earlacoa/paper_aia_china/emulator_annual/health_impact_assessments/source_dfs_adjusted_scaled.joblib.compressed', compress=True)\n",
    "joblib.dump(options, '/nfs/b0122/Users/earlacoa/paper_aia_china/emulator_annual/health_impact_assessments/options.joblib.compressed', compress=True)"
   ]
  },
  {
   "cell_type": "code",
   "execution_count": null,
   "id": "viral-thong",
   "metadata": {},
   "outputs": [],
   "source": [
    "source_dfs = joblib.load('/nfs/b0122/Users/earlacoa/paper_aia_china/emulator_annual/health_impact_assessments/source_dfs_adjusted_scaled.joblib.compressed')\n",
    "options = joblib.load('/nfs/b0122/Users/earlacoa/paper_aia_china/emulator_annual/health_impact_assessments/options.joblib.compressed')"
   ]
  },
  {
   "cell_type": "code",
   "execution_count": null,
   "id": "single-genesis",
   "metadata": {},
   "outputs": [],
   "source": [
    "source_dfs_exposure = {key: source_dfs[key] for key in ['PM2_5_DRY_exposure_mean', 'o3_6mDM8h_exposure_mean']}\n",
    "source_dfs_mort = {key: source_dfs[key] for key in ['PM2_5_DRY_mort_mean', 'o3_6mDM8h_mort_mean']}"
   ]
  },
  {
   "cell_type": "code",
   "execution_count": null,
   "id": "veterinary-advertising",
   "metadata": {},
   "outputs": [],
   "source": [
    "joblib.dump(source_dfs_exposure, '/nfs/b0122/Users/earlacoa/paper_aia_china/emulator_annual/health_impact_assessments/source_dfs_exposure_adjusted_scaled.joblib.compressed', compress=True)\n",
    "joblib.dump(source_dfs_mort, '/nfs/b0122/Users/earlacoa/paper_aia_china/emulator_annual/health_impact_assessments/source_dfs_mort_adjusted_scaled.joblib.compressed', compress=True)"
   ]
  },
  {
   "cell_type": "code",
   "execution_count": 4,
   "id": "recorded-duration",
   "metadata": {},
   "outputs": [],
   "source": [
    "source_dfs_exposure = joblib.load('/nfs/b0122/Users/earlacoa/paper_aia_china/emulator_annual/health_impact_assessments/source_dfs_exposure_adjusted_scaled.joblib.compressed')\n",
    "source_dfs_mort = joblib.load('/nfs/b0122/Users/earlacoa/paper_aia_china/emulator_annual/health_impact_assessments/source_dfs_mort_adjusted_scaled.joblib.compressed')"
   ]
  },
  {
   "cell_type": "code",
   "execution_count": 41,
   "id": "according-career",
   "metadata": {},
   "outputs": [],
   "source": [
    "source_dfs_exposure_float16 = {}\n",
    "for key, df in source_dfs_exposure.items():\n",
    "    source_dfs_exposure_float16.update({key: df.astype({column: np.float16 for column in list(df.columns[4:])})})\n",
    "    \n",
    "\n",
    "source_dfs_mort_float16 = {}\n",
    "for key, df in source_dfs_mort.items():\n",
    "    source_dfs_mort_float16.update({key: df.astype({column: np.float16 for column in list(df.columns[4:])})}) "
   ]
  },
  {
   "cell_type": "code",
   "execution_count": 46,
   "id": "roman-basics",
   "metadata": {},
   "outputs": [
    {
     "name": "stdout",
     "output_type": "stream",
     "text": [
      "<class 'pandas.core.frame.DataFrame'>\n",
      "RangeIndex: 31 entries, 0 to 30\n",
      "Columns: 32772 entries, location to RES1.4_IND1.4_TRA1.4_AGR1.4_ENE1.4\n",
      "dtypes: float16(32768), float64(1), object(3)\n",
      "memory usage: 1.9+ MB\n"
     ]
    }
   ],
   "source": [
    "source_dfs_mort_float16['PM2_5_DRY_mort_mean'].info()"
   ]
  },
  {
   "cell_type": "code",
   "execution_count": 45,
   "id": "stone-borough",
   "metadata": {},
   "outputs": [
    {
     "name": "stdout",
     "output_type": "stream",
     "text": [
      "<class 'pandas.core.frame.DataFrame'>\n",
      "RangeIndex: 31 entries, 0 to 30\n",
      "Columns: 32772 entries, location to RES1.4_IND1.4_TRA1.4_AGR1.4_ENE1.4\n",
      "dtypes: float64(32769), object(3)\n",
      "memory usage: 7.8+ MB\n"
     ]
    }
   ],
   "source": [
    "source_dfs_mort['PM2_5_DRY_mort_mean'].info()"
   ]
  },
  {
   "cell_type": "code",
   "execution_count": 47,
   "id": "round-segment",
   "metadata": {},
   "outputs": [
    {
     "data": {
      "text/plain": [
       "['/nfs/b0122/Users/earlacoa/paper_aia_china/emulator_annual/health_impact_assessments/source_dfs_mort_adjusted_scaled_float16.joblib.compressed']"
      ]
     },
     "execution_count": 47,
     "metadata": {},
     "output_type": "execute_result"
    }
   ],
   "source": [
    "joblib.dump(source_dfs_exposure_float16, '/nfs/b0122/Users/earlacoa/paper_aia_china/emulator_annual/health_impact_assessments/source_dfs_exposure_adjusted_scaled_float16.joblib.compressed', compress=True)\n",
    "joblib.dump(source_dfs_mort_float16, '/nfs/b0122/Users/earlacoa/paper_aia_china/emulator_annual/health_impact_assessments/source_dfs_mort_adjusted_scaled_float16.joblib.compressed', compress=True)"
   ]
  },
  {
   "cell_type": "code",
   "execution_count": null,
   "id": "adequate-minute",
   "metadata": {},
   "outputs": [],
   "source": [
    "source_dfs_exposure_float16 = joblib.load('/nfs/b0122/Users/earlacoa/paper_aia_china/emulator_annual/health_impact_assessments/source_dfs_exposure_adjusted_scaled_float16.joblib.compressed')\n",
    "source_dfs_mort_float16 = joblib.load('/nfs/b0122/Users/earlacoa/paper_aia_china/emulator_annual/health_impact_assessments/source_dfs_mort_adjusted_scaled_float16.joblib.compressed')"
   ]
  },
  {
   "cell_type": "code",
   "execution_count": 50,
   "id": "coral-omega",
   "metadata": {},
   "outputs": [],
   "source": [
    "source_dfs_exposure_float16_pm25only = {k: v for k, v in source_dfs_exposure_float16.items() if 'PM2_5_DRY' in k}"
   ]
  },
  {
   "cell_type": "code",
   "execution_count": 51,
   "id": "domestic-static",
   "metadata": {},
   "outputs": [],
   "source": [
    "source_dfs_mort_float16_pm25only = {k: v for k, v in source_dfs_mort_float16.items() if 'PM2_5_DRY' in k}"
   ]
  },
  {
   "cell_type": "code",
   "execution_count": 52,
   "id": "comparable-nurse",
   "metadata": {},
   "outputs": [
    {
     "data": {
      "text/plain": [
       "['/nfs/b0122/Users/earlacoa/paper_aia_china/emulator_annual/health_impact_assessments/source_dfs_mort_adjusted_scaled_float16_pm25only.joblib.compressed']"
      ]
     },
     "execution_count": 52,
     "metadata": {},
     "output_type": "execute_result"
    }
   ],
   "source": [
    "joblib.dump(source_dfs_exposure_float16_pm25only, '/nfs/b0122/Users/earlacoa/paper_aia_china/emulator_annual/health_impact_assessments/source_dfs_exposure_adjusted_scaled_float16_pm25only.joblib.compressed', compress=True)\n",
    "joblib.dump(source_dfs_mort_float16_pm25only, '/nfs/b0122/Users/earlacoa/paper_aia_china/emulator_annual/health_impact_assessments/source_dfs_mort_adjusted_scaled_float16_pm25only.joblib.compressed', compress=True)"
   ]
  },
  {
   "cell_type": "code",
   "execution_count": null,
   "id": "egyptian-peripheral",
   "metadata": {},
   "outputs": [],
   "source": [
    "source_dfs_exposure_float16_pm25only = joblib.load('/nfs/b0122/Users/earlacoa/paper_aia_china/emulator_annual/health_impact_assessments/source_dfs_exposure_adjusted_scaled_float16_pm25only.joblib.compressed')\n",
    "source_dfs_mort_float16_pm25only = joblib.load('/nfs/b0122/Users/earlacoa/paper_aia_china/emulator_annual/health_impact_assessments/source_dfs_mort_adjusted_scaled_float16_pm25only.joblib.compressed')"
   ]
  },
  {
   "cell_type": "code",
   "execution_count": null,
   "id": "fourth-moldova",
   "metadata": {},
   "outputs": [],
   "source": []
  },
  {
   "cell_type": "code",
   "execution_count": 84,
   "id": "heavy-baker",
   "metadata": {},
   "outputs": [],
   "source": [
    "del results_compare['China']['PM2_5_DRY']['dalys_rate']"
   ]
  },
  {
   "cell_type": "code",
   "execution_count": 85,
   "id": "logical-beaver",
   "metadata": {},
   "outputs": [],
   "source": [
    "for output in results_compare['China'].keys():\n",
    "    for outcome in results_compare['China'][output].keys():\n",
    "        for metric in results_compare['China'][output][outcome].keys():\n",
    "            for scenario in results_compare['China'][output][outcome][metric].keys():\n",
    "                if outcome == 'exposure':\n",
    "                    results_compare['China'][output][outcome][metric][scenario] = np.float16(results_compare['China'][output][outcome][metric][scenario])\n",
    "                elif outcome == 'mort':\n",
    "                    results_compare['China'][output][outcome][metric][scenario] = np.float32(results_compare['China'][output][outcome][metric][scenario])"
   ]
  },
  {
   "cell_type": "code",
   "execution_count": 94,
   "id": "nearby-protest",
   "metadata": {},
   "outputs": [],
   "source": [
    "results_china_float16_nodalys_pm25only = results_compare['China']"
   ]
  },
  {
   "cell_type": "code",
   "execution_count": 96,
   "id": "local-element",
   "metadata": {},
   "outputs": [],
   "source": [
    "del results_china_float16_nodalys_pm25only['o3_6mDM8h']"
   ]
  },
  {
   "cell_type": "code",
   "execution_count": 97,
   "id": "lasting-difference",
   "metadata": {},
   "outputs": [
    {
     "data": {
      "text/plain": [
       "['/nfs/b0122/Users/earlacoa/paper_aia_china/emulator_annual/health_impact_assessments/results_china_float16_nodalys_pm25only.joblib.compressed']"
      ]
     },
     "execution_count": 97,
     "metadata": {},
     "output_type": "execute_result"
    }
   ],
   "source": [
    "joblib.dump(results_china_float16_nodalys_pm25only, '/nfs/b0122/Users/earlacoa/paper_aia_china/emulator_annual/health_impact_assessments/results_compare_china_adjusted_scaled_float16_nodalys_pm25only.joblib.compressed', compress=True)"
   ]
  },
  {
   "cell_type": "code",
   "execution_count": null,
   "id": "limited-dining",
   "metadata": {},
   "outputs": [],
   "source": [
    "results_china_float16_nodalys_pm25only = joblib.load('/nfs/b0122/Users/earlacoa/paper_aia_china/emulator_annual/health_impact_assessments/results_compare_china_adjusted_scaled_float16_nodalys_pm25only.joblib.compressed')"
   ]
  },
  {
   "cell_type": "code",
   "execution_count": null,
   "id": "large-george",
   "metadata": {},
   "outputs": [],
   "source": []
  },
  {
   "cell_type": "code",
   "execution_count": null,
   "id": "compatible-rebel",
   "metadata": {},
   "outputs": [],
   "source": []
  }
 ],
 "metadata": {
  "kernelspec": {
   "display_name": "python3",
   "language": "python",
   "name": "python3"
  },
  "language_info": {
   "codemirror_mode": {
    "name": "ipython",
    "version": 3
   },
   "file_extension": ".py",
   "mimetype": "text/x-python",
   "name": "python",
   "nbconvert_exporter": "python",
   "pygments_lexer": "ipython3",
   "version": "3.8.6"
  }
 },
 "nbformat": 4,
 "nbformat_minor": 5
}
