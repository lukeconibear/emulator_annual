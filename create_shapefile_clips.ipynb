{
 "cells": [
  {
   "cell_type": "code",
   "execution_count": 13,
   "metadata": {},
   "outputs": [],
   "source": [
    "import joblib\n",
    "import numpy as np\n",
    "import xarray as xr\n",
    "import geopandas as gpd\n",
    "from rasterio import features\n",
    "from affine import Affine"
   ]
  },
  {
   "cell_type": "code",
   "execution_count": 14,
   "metadata": {},
   "outputs": [],
   "source": [
    "def transform_from_latlon(lat, lon):\n",
    "    lat = np.asarray(lat)\n",
    "    lon = np.asarray(lon)\n",
    "    trans = Affine.translation(lon[0], lat[0])\n",
    "    scale = Affine.scale(lon[1] - lon[0], lat[1] - lat[0])\n",
    "    return trans * scale\n",
    "\n",
    "\n",
    "def rasterize(\n",
    "    shapes, coords, latitude=\"latitude\", longitude=\"longitude\", fill=np.nan, **kwargs\n",
    "):\n",
    "    transform = transform_from_latlon(coords[latitude], coords[longitude])\n",
    "    out_shape = (len(coords[latitude]), len(coords[longitude]))\n",
    "    raster = features.rasterize(\n",
    "        shapes,\n",
    "        out_shape=out_shape,\n",
    "        fill=fill,\n",
    "        transform=transform,\n",
    "        dtype=float,\n",
    "        **kwargs,\n",
    "    )\n",
    "    spatial_coords = {latitude: coords[latitude], longitude: coords[longitude]}\n",
    "    return xr.DataArray(raster, coords=spatial_coords, dims=(latitude, longitude))"
   ]
  },
  {
   "cell_type": "code",
   "execution_count": 15,
   "metadata": {},
   "outputs": [],
   "source": [
    "# use as base data shape for this project\n",
    "ds = xr.open_dataset('/nobackup/earlacoa/machinelearning/data_annual/predictions/PM2_5_DRY/ds_RES1.0_IND1.0_TRA1.0_AGR1.0_ENE1.0_PM2_5_DRY_popgrid_0.25deg.nc')['PM2_5_DRY']"
   ]
  },
  {
   "cell_type": "code",
   "execution_count": 16,
   "metadata": {},
   "outputs": [],
   "source": [
    "clips = {}"
   ]
  },
  {
   "cell_type": "code",
   "execution_count": 17,
   "metadata": {},
   "outputs": [],
   "source": [
    "shapefiles = gpd.read_file(\"/nobackup/earlacoa/health/data/gadm28_adm0.shp\")\n",
    "countries = [49, 102, 132, 225]\n",
    "\n",
    "for country in countries:\n",
    "    shapefile = shapefiles.loc[shapefiles.ID_0 == country]\n",
    "    shapes = [(shape, n) for n, shape in enumerate(shapefile.geometry)]\n",
    "    clip = rasterize(shapes, ds.coords, longitude='lon', latitude='lat') \n",
    "    clips.update({shapefile.NAME_ENGLI.values[0]: clip})"
   ]
  },
  {
   "cell_type": "code",
   "execution_count": 18,
   "metadata": {},
   "outputs": [],
   "source": [
    "shapefiles = gpd.read_file(\"/nobackup/earlacoa/health/data/gadm36_CHN_1.shp\")\n",
    "provinces = [province for province in shapefiles.NAME_1]\n",
    "\n",
    "for province in provinces:\n",
    "    shapefile = shapefiles.loc[shapefiles.NAME_1 == province]\n",
    "    shapes = [(shape, n) for n, shape in enumerate(shapefile.geometry)]\n",
    "    clip = rasterize(shapes, ds.coords, longitude='lon', latitude='lat') \n",
    "    clips.update({province: clip})"
   ]
  },
  {
   "cell_type": "code",
   "execution_count": 19,
   "metadata": {},
   "outputs": [],
   "source": [
    "shapefiles = gpd.read_file(\"/nobackup/earlacoa/health/data/gadm36_CHN_2.shp\")\n",
    "prefecture_ids = [\n",
    "    \"CHN.6.2_1\",\n",
    "    \"CHN.6.3_1\",\n",
    "    \"CHN.6.4_1\",\n",
    "    \"CHN.6.6_1\",\n",
    "    \"CHN.6.7_1\",\n",
    "    \"CHN.6.15_1\",\n",
    "    \"CHN.6.19_1\",\n",
    "    \"CHN.6.20_1\",\n",
    "    \"CHN.6.21_1\",\n",
    "]\n",
    "\n",
    "for prefecture_id in prefecture_ids:\n",
    "    shapefile = shapefiles.loc[shapefiles.GID_2 == prefecture_id]\n",
    "    shapes = [(shape, n) for n, shape in enumerate(shapefile.geometry)]\n",
    "    clip = rasterize(shapes, ds.coords, longitude='lon', latitude='lat') \n",
    "    clips.update({shapefile.NAME_2.values[0]: clip})"
   ]
  },
  {
   "cell_type": "code",
   "execution_count": 21,
   "metadata": {},
   "outputs": [
    {
     "data": {
      "text/plain": [
       "dict_keys(['China', 'Hong Kong', 'Macao', 'Taiwan', 'Anhui', 'Beijing', 'Chongqing', 'Fujian', 'Gansu', 'Guangdong', 'Guangxi', 'Guizhou', 'Hainan', 'Hebei', 'Heilongjiang', 'Henan', 'Hubei', 'Hunan', 'Jiangsu', 'Jiangxi', 'Jilin', 'Liaoning', 'Nei Mongol', 'Ningxia Hui', 'Qinghai', 'Shaanxi', 'Shandong', 'Shanghai', 'Shanxi', 'Sichuan', 'Tianjin', 'Xinjiang Uygur', 'Xizang', 'Yunnan', 'Zhejiang', 'Dongguan', 'Foshan', 'Guangzhou', 'Huizhou', 'Jiangmen', 'Shenzhen', 'Zhaoqing', 'Zhongshan', 'Zhuhai'])"
      ]
     },
     "execution_count": 21,
     "metadata": {},
     "output_type": "execute_result"
    }
   ],
   "source": [
    "clips.keys()"
   ]
  },
  {
   "cell_type": "code",
   "execution_count": 22,
   "metadata": {},
   "outputs": [
    {
     "data": {
      "text/plain": [
       "<matplotlib.collections.QuadMesh at 0x2b209b3d1490>"
      ]
     },
     "execution_count": 22,
     "metadata": {},
     "output_type": "execute_result"
    },
    {
     "data": {
      "image/png": "[encoded data removed]",
      "text/plain": [
       "<Figure size 432x288 with 2 Axes>"
      ]
     },
     "metadata": {
      "needs_background": "light"
     },
     "output_type": "display_data"
    }
   ],
   "source": [
    "clips['China'].plot()"
   ]
  },
  {
   "cell_type": "code",
   "execution_count": 24,
   "metadata": {},
   "outputs": [
    {
     "data": {
      "text/plain": [
       "['/nobackup/earlacoa/machinelearning/data_annual/clips.joblib']"
      ]
     },
     "execution_count": 24,
     "metadata": {},
     "output_type": "execute_result"
    }
   ],
   "source": [
    "joblib.dump(clips, f'/nobackup/earlacoa/machinelearning/data_annual/clips.joblib')"
   ]
  },
  {
   "cell_type": "code",
   "execution_count": null,
   "metadata": {},
   "outputs": [],
   "source": []
  }
 ],
 "metadata": {
  "kernelspec": {
   "display_name": "Python 3",
   "language": "python",
   "name": "python3"
  },
  "language_info": {
   "codemirror_mode": {
    "name": "ipython",
    "version": 3
   },
   "file_extension": ".py",
   "mimetype": "text/x-python",
   "name": "python",
   "nbconvert_exporter": "python",
   "pygments_lexer": "ipython3",
   "version": "3.8.3"
  }
 },
 "nbformat": 4,
 "nbformat_minor": 4
}
